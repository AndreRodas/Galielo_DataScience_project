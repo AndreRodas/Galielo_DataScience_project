{
 "cells": [
  {
   "cell_type": "markdown",
   "metadata": {},
   "source": [
    "# Importing packages\n",
    "\n",
    "Importamos los paquetes necesarios para el proyecto"
   ]
  },
  {
   "cell_type": "code",
   "execution_count": 1,
   "metadata": {},
   "outputs": [],
   "source": [
    "from numpy import savetxt\n",
    "import numpy as np\n",
    "import pandas as pd\n",
    "import matplotlib.pyplot as plt\n",
    "import seaborn as sns\n",
    "\n",
    "from sklearn.linear_model import LinearRegression"
   ]
  },
  {
   "cell_type": "markdown",
   "metadata": {},
   "source": [
    "# Loading Data\n",
    "\n",
    "Cargar los datos https://docs.scipy.org/doc/numpy/reference/generated/numpy.load.html\n"
   ]
  },
  {
   "cell_type": "code",
   "execution_count": 2,
   "metadata": {},
   "outputs": [
    {
     "data": {
      "text/html": [
       "<div>\n",
       "<style scoped>\n",
       "    .dataframe tbody tr th:only-of-type {\n",
       "        vertical-align: middle;\n",
       "    }\n",
       "\n",
       "    .dataframe tbody tr th {\n",
       "        vertical-align: top;\n",
       "    }\n",
       "\n",
       "    .dataframe thead th {\n",
       "        text-align: right;\n",
       "    }\n",
       "</style>\n",
       "<table border=\"1\" class=\"dataframe\">\n",
       "  <thead>\n",
       "    <tr style=\"text-align: right;\">\n",
       "      <th></th>\n",
       "      <th>SalePrice</th>\n",
       "      <th>OverallQual</th>\n",
       "      <th>1stFlrSF</th>\n",
       "      <th>TotRmsAbvGrd</th>\n",
       "      <th>YearBuilt</th>\n",
       "      <th>LotFrontage</th>\n",
       "    </tr>\n",
       "  </thead>\n",
       "  <tbody>\n",
       "    <tr>\n",
       "      <td>0</td>\n",
       "      <td>208500.0</td>\n",
       "      <td>7.0</td>\n",
       "      <td>856.0</td>\n",
       "      <td>8.0</td>\n",
       "      <td>2003.0</td>\n",
       "      <td>65.0</td>\n",
       "    </tr>\n",
       "    <tr>\n",
       "      <td>1</td>\n",
       "      <td>181500.0</td>\n",
       "      <td>6.0</td>\n",
       "      <td>1262.0</td>\n",
       "      <td>6.0</td>\n",
       "      <td>1976.0</td>\n",
       "      <td>80.0</td>\n",
       "    </tr>\n",
       "    <tr>\n",
       "      <td>2</td>\n",
       "      <td>223500.0</td>\n",
       "      <td>7.0</td>\n",
       "      <td>920.0</td>\n",
       "      <td>6.0</td>\n",
       "      <td>2001.0</td>\n",
       "      <td>68.0</td>\n",
       "    </tr>\n",
       "    <tr>\n",
       "      <td>3</td>\n",
       "      <td>140000.0</td>\n",
       "      <td>7.0</td>\n",
       "      <td>961.0</td>\n",
       "      <td>7.0</td>\n",
       "      <td>1915.0</td>\n",
       "      <td>60.0</td>\n",
       "    </tr>\n",
       "    <tr>\n",
       "      <td>4</td>\n",
       "      <td>250000.0</td>\n",
       "      <td>8.0</td>\n",
       "      <td>1145.0</td>\n",
       "      <td>9.0</td>\n",
       "      <td>2000.0</td>\n",
       "      <td>84.0</td>\n",
       "    </tr>\n",
       "  </tbody>\n",
       "</table>\n",
       "</div>"
      ],
      "text/plain": [
       "   SalePrice  OverallQual  1stFlrSF  TotRmsAbvGrd  YearBuilt  LotFrontage\n",
       "0   208500.0          7.0     856.0           8.0     2003.0         65.0\n",
       "1   181500.0          6.0    1262.0           6.0     1976.0         80.0\n",
       "2   223500.0          7.0     920.0           6.0     2001.0         68.0\n",
       "3   140000.0          7.0     961.0           7.0     1915.0         60.0\n",
       "4   250000.0          8.0    1145.0           9.0     2000.0         84.0"
      ]
     },
     "execution_count": 2,
     "metadata": {},
     "output_type": "execute_result"
    }
   ],
   "source": [
    "data = np.load('data/proyecto_training_data.npy')\n",
    "names = [\"SalePrice\", \"OverallQual\",\"1stFlrSF\", \"TotRmsAbvGrd\", \"YearBuilt\", \"LotFrontage\"]\n",
    "df = pd.DataFrame(data=data,columns=names) \n",
    "df.head()"
   ]
  },
  {
   "cell_type": "code",
   "execution_count": 3,
   "metadata": {},
   "outputs": [
    {
     "name": "stdout",
     "output_type": "stream",
     "text": [
      "<class 'pandas.core.frame.DataFrame'>\n",
      "RangeIndex: 1460 entries, 0 to 1459\n",
      "Data columns (total 6 columns):\n",
      "SalePrice       1460 non-null float64\n",
      "OverallQual     1460 non-null float64\n",
      "1stFlrSF        1460 non-null float64\n",
      "TotRmsAbvGrd    1460 non-null float64\n",
      "YearBuilt       1460 non-null float64\n",
      "LotFrontage     1201 non-null float64\n",
      "dtypes: float64(6)\n",
      "memory usage: 68.6 KB\n"
     ]
    }
   ],
   "source": [
    "df.info()"
   ]
  },
  {
   "cell_type": "code",
   "execution_count": 4,
   "metadata": {},
   "outputs": [
    {
     "name": "stdout",
     "output_type": "stream",
     "text": [
      "Number of rows 1460\n",
      "Number of cols 6\n"
     ]
    }
   ],
   "source": [
    "row_num = df.shape[0]\n",
    "col_num = df.shape[1]\n",
    "print('Number of rows', row_num)\n",
    "print('Number of cols', col_num)"
   ]
  },
  {
   "cell_type": "markdown",
   "metadata": {},
   "source": [
    "# Slicing with Numpy"
   ]
  },
  {
   "cell_type": "code",
   "execution_count": 5,
   "metadata": {},
   "outputs": [],
   "source": [
    "train_rows_num = int(row_num*0.8)\n",
    "train_df = df[:train_rows_num]\n",
    "test_df = df[:-train_rows_num]"
   ]
  },
  {
   "cell_type": "markdown",
   "metadata": {},
   "source": [
    "# Exploratory analysis\n",
    "\n",
    "## Boxplots"
   ]
  },
  {
   "cell_type": "code",
   "execution_count": 6,
   "metadata": {},
   "outputs": [
    {
     "data": {
      "image/png": "[encoded data removed]",
      "text/plain": [
       "<Figure size 432x288 with 6 Axes>"
      ]
     },
     "metadata": {
      "needs_background": "light"
     },
     "output_type": "display_data"
    }
   ],
   "source": [
    "fig  = plt.figure()\n",
    "i = 0\n",
    "for column in df:\n",
    "    i += 1\n",
    "    fig.add_subplot(2,3,i)\n",
    "    df.boxplot([column])\n",
    "    \n",
    "plt.show()\n"
   ]
  },
  {
   "cell_type": "markdown",
   "metadata": {},
   "source": [
    "## Get values\n",
    "> mean, max, min, range, std"
   ]
  },
  {
   "cell_type": "code",
   "execution_count": 7,
   "metadata": {},
   "outputs": [
    {
     "name": "stdout",
     "output_type": "stream",
     "text": [
      "SalePrice\n",
      "count      1460.000000\n",
      "mean     180921.195890\n",
      "std       79442.502883\n",
      "min       34900.000000\n",
      "25%      129975.000000\n",
      "50%      163000.000000\n",
      "75%      214000.000000\n",
      "max      755000.000000\n",
      "Name: SalePrice, dtype: float64 \n",
      "\n",
      "OverallQual\n",
      "count    1460.000000\n",
      "mean        6.099315\n",
      "std         1.382997\n",
      "min         1.000000\n",
      "25%         5.000000\n",
      "50%         6.000000\n",
      "75%         7.000000\n",
      "max        10.000000\n",
      "Name: OverallQual, dtype: float64 \n",
      "\n",
      "1stFlrSF\n",
      "count    1460.000000\n",
      "mean     1162.626712\n",
      "std       386.587738\n",
      "min       334.000000\n",
      "25%       882.000000\n",
      "50%      1087.000000\n",
      "75%      1391.250000\n",
      "max      4692.000000\n",
      "Name: 1stFlrSF, dtype: float64 \n",
      "\n",
      "TotRmsAbvGrd\n",
      "count    1460.000000\n",
      "mean        6.517808\n",
      "std         1.625393\n",
      "min         2.000000\n",
      "25%         5.000000\n",
      "50%         6.000000\n",
      "75%         7.000000\n",
      "max        14.000000\n",
      "Name: TotRmsAbvGrd, dtype: float64 \n",
      "\n",
      "YearBuilt\n",
      "count    1460.000000\n",
      "mean     1971.267808\n",
      "std        30.202904\n",
      "min      1872.000000\n",
      "25%      1954.000000\n",
      "50%      1973.000000\n",
      "75%      2000.000000\n",
      "max      2010.000000\n",
      "Name: YearBuilt, dtype: float64 \n",
      "\n",
      "LotFrontage\n",
      "count    1201.000000\n",
      "mean       70.049958\n",
      "std        24.284752\n",
      "min        21.000000\n",
      "25%        59.000000\n",
      "50%        69.000000\n",
      "75%        80.000000\n",
      "max       313.000000\n",
      "Name: LotFrontage, dtype: float64 \n",
      "\n"
     ]
    }
   ],
   "source": [
    "for index in range(col_num):\n",
    "    print(names[index])\n",
    "    print(df.iloc[:,index].describe(),'\\n')"
   ]
  },
  {
   "cell_type": "markdown",
   "metadata": {},
   "source": [
    "## Graphing histograms "
   ]
  },
  {
   "cell_type": "code",
   "execution_count": null,
   "metadata": {},
   "outputs": [
    {
     "data": {
      "image/png": "[encoded data removed]",
      "text/plain": [
       "<Figure size 432x288 with 1 Axes>"
      ]
     },
     "metadata": {
      "needs_background": "light"
     },
     "output_type": "display_data"
    }
   ],
   "source": [
    "i = 0\n",
    "\n",
    "for column in df:\n",
    "    x = np.array(df[column])\n",
    "    x = x[~np.isnan(x)]\n",
    "    concat_name = \"Histograma para \" + names[i]\n",
    "    sns.distplot(x).set_title(concat_name)\n",
    "    plt.xlabel(names[i], fontsize=15)\n",
    "    plt.ylabel(\"Frecuencia\",fontsize=15)\n",
    "    plt.show()\n",
    "    i += 1"
   ]
  },
  {
   "cell_type": "markdown",
   "metadata": {},
   "source": [
    "## Graphing scatterplot with matplotlib"
   ]
  },
  {
   "cell_type": "code",
   "execution_count": null,
   "metadata": {},
   "outputs": [],
   "source": [
    "i = 0\n",
    "for column in df:\n",
    "    if i != 0:\n",
    "        corr_num = df['SalePrice'].corr(df[column])\n",
    "        label = 'r =' + ' {0:.2f}'.format(corr_num)\n",
    "        title = 'SalePrice vs ' + names[i] + ' ' + label   \n",
    "        df.plot(x=names[i], y='SalePrice', kind='scatter',title=title, label=label,c = 'g') \n",
    "        plt.show()\n",
    "        print()\n",
    "    i += 1"
   ]
  },
  {
   "cell_type": "markdown",
   "metadata": {},
   "source": [
    "## Create function for *linear regresion*\n",
    "\n",
    "> Escojo **OverallQual** y **1stFlrSF** dependientes a **SalePrice**, los cuales tienen un r = 0.79 y 0.61 respectivamente\n",
    "\n",
    "> Dataframe de entrenamiento **train_df** y de pruebas **test_df**"
   ]
  },
  {
   "cell_type": "code",
   "execution_count": null,
   "metadata": {},
   "outputs": [],
   "source": [
    "def linear_regresion(x, y, epochs, imprimir_error_cada=-1, lr = 0.0001):\n",
    "    l = len(x)\n",
    "    m = 0\n",
    "    b = 0\n",
    "    parameters = np.array([[m,b]])\n",
    "    \n",
    "    errors = []\n",
    "    models = []\n",
    "    models.append([])\n",
    "    models.append([])\n",
    "    \n",
    "    matrix_x_t = np.matrix([x, np.full_like(x,1)]).T\n",
    "    for index in range(epochs):\n",
    "        yhat = np.dot(matrix_x_t, parameters.T).T\n",
    "        error = 0.5 * np.mean(np.power(y - yhat,2))\n",
    "        \n",
    "        errors.append(error)\n",
    "        models[0].append(parameters[0,0]) #terminos m\n",
    "        models[1].append(parameters[0,1]) #terminos b\n",
    "        \n",
    "        gradient = ((yhat - y) * matrix_x_t) / l\n",
    "        parameters = parameters - gradient * lr\n",
    "\n",
    "        if (index % imprimir_error_cada == 0) and (imprimir_error_cada != -1):\n",
    "            print('Iteracion '+str(index+1)+ ': error= ' + str(round(error,2)) + \\\n",
    "                  ' m= ' + str(parameters[0,0])+ ' b= '+ str(parameters[0,1]))\n",
    "\n",
    "    return models, errors "
   ]
  },
  {
   "cell_type": "markdown",
   "metadata": {},
   "source": [
    "### Comprobando la función con los valores de *ejemplo_regresion_proyecto.xlsx*"
   ]
  },
  {
   "cell_type": "code",
   "execution_count": null,
   "metadata": {},
   "outputs": [],
   "source": [
    "x = np.array([65, 80, 68])\n",
    "y = np.array([208.5, 181.5, 223.5])\n",
    "\n",
    "m, e = linear_regresion(x,y,3,1)"
   ]
  },
  {
   "cell_type": "markdown",
   "metadata": {},
   "source": [
    "## Create function: *error vs epoch graph*"
   ]
  },
  {
   "cell_type": "code",
   "execution_count": null,
   "metadata": {},
   "outputs": [],
   "source": [
    "def error_graph(error):\n",
    "    fig = plt.figure()\n",
    "    ax = fig.add_subplot(1,1,1) \n",
    "    x = np.arange(1,len(error)+1)\n",
    "    ax.plot(x, e ,color=\"c\") # tambien se pudo usar \"green\" en lugar de el abreviado \"g\"\n",
    "    ax.set_xlabel('Epoch')\n",
    "    ax.set_ylabel('Error')\n",
    "    ax.set_title('Error vs epoch')\n",
    "    plt.show()\n",
    "    print('Final error: '+ '{:.4e}'.format(e[-1]))"
   ]
  },
  {
   "cell_type": "code",
   "execution_count": null,
   "metadata": {},
   "outputs": [],
   "source": [
    "#Ejemplo de grafica de error con valores de ejemplo_regresion_proyecto.xlsx\n",
    "x = np.array([65, 80, 68])\n",
    "y = np.array([208.5, 181.5, 223.5])\n",
    "\n",
    "m, e = linear_regresion(x,y,3,1)\n",
    "\n",
    "error_graph(e)"
   ]
  },
  {
   "cell_type": "markdown",
   "metadata": {},
   "source": [
    "## Create function: *graph lineal model by no. of epoch*"
   ]
  },
  {
   "cell_type": "code",
   "execution_count": null,
   "metadata": {},
   "outputs": [],
   "source": [
    "def models_graph(x,y,m,n):\n",
    "    x_vec = np.linspace(0,np.max(x),2)\n",
    "    for i in range(1, len(m[0])+1, n):\n",
    "        y_vec = m[0][i-1] * x_vec + m[1][i-1]\n",
    "        y_str = 'y ='+ ' {0:.2f}'.format(m[0][i-1]) +'x + '+ '{0:.2f}'.format(m[1][i-1])\n",
    "        plt.scatter(x,y, c='g', label=str(x.name))\n",
    "        plt.plot(x_vec,y_vec,c='r', label=y_str, linewidth=3)\n",
    "        plt.xlabel(str(x.name))\n",
    "        plt.ylabel(str(y.name))\n",
    "        plt.title('Epoch ' + str(i-1))\n",
    "        plt.legend(loc='best')\n",
    "        plt.show()"
   ]
  },
  {
   "cell_type": "markdown",
   "metadata": {},
   "source": [
    "# Training with *MY* regresion model\n",
    "- X's choosen:\n",
    "    - OverallQual\n",
    "    - 1stFlrSF"
   ]
  },
  {
   "cell_type": "markdown",
   "metadata": {},
   "source": [
    "## OverallQual\n",
    "### Method - linear_regresion()"
   ]
  },
  {
   "cell_type": "code",
   "execution_count": null,
   "metadata": {},
   "outputs": [],
   "source": [
    "x = train_df['OverallQual'] \n",
    "y = train_df['SalePrice'] \n",
    "\n",
    "x_vec = np.array(x) \n",
    "y_vec = np.array(y) \n",
    "\n",
    "ep = 8000\n",
    "\n",
    "m, e = linear_regresion(x_vec,y_vec,ep,lr=0.01)\n",
    "error_graph(e)\n",
    "models_graph(x,y,m,int(ep/3))\n",
    "\n",
    "OverallQual_m = m[0][-1]\n",
    "OverallQual_b = m[1][-1]"
   ]
  },
  {
   "cell_type": "markdown",
   "metadata": {},
   "source": [
    "## 1stFlrSF\n",
    "### Method - linear_regresion()"
   ]
  },
  {
   "cell_type": "code",
   "execution_count": null,
   "metadata": {},
   "outputs": [],
   "source": [
    "x = train_df['1stFlrSF'] \n",
    "y = train_df['SalePrice'] \n",
    "\n",
    "x_vec = np.array(x) \n",
    "y_vec = np.array(y) \n",
    "\n",
    "ep = 100\n",
    "\n",
    "m, e = linear_regresion(x_vec,y_vec,ep,lr=0.000001)\n",
    "error_graph(e)\n",
    "models_graph(x,y,m,int(ep/3))\n",
    "\n",
    "IstFlrSF_m = m[0][-1]\n",
    "IstFlrSF_b = m[1][-1]"
   ]
  },
  {
   "cell_type": "markdown",
   "metadata": {},
   "source": [
    "# Training with *sklearn model*"
   ]
  },
  {
   "cell_type": "markdown",
   "metadata": {},
   "source": [
    "## OverallQual and 1stFlrSF\n",
    "### Method - sklearn LinearRegression"
   ]
  },
  {
   "cell_type": "code",
   "execution_count": null,
   "metadata": {},
   "outputs": [],
   "source": [
    "over = pd.DataFrame(train_df['OverallQual'])\n",
    "flrs = pd.DataFrame(train_df['1stFlrSF'])\n",
    "\n",
    "sale = pd.DataFrame(train_df['SalePrice'])\n",
    "\n",
    "regresion_over = LinearRegression().fit(over, sale)\n",
    "regresion_flrs = LinearRegression().fit(flrs, sale)"
   ]
  },
  {
   "cell_type": "markdown",
   "metadata": {},
   "source": [
    "## Create function: *3 prediction models*"
   ]
  },
  {
   "cell_type": "code",
   "execution_count": null,
   "metadata": {},
   "outputs": [],
   "source": [
    "def all_models(x_eval, my_model, sk_model): #x_eval: es la columna del dataframe\n",
    "    x_vec = np.array(x_eval)\n",
    "    prediction_my = my_model[0]*x_vec+my_model[1]\n",
    "    prediction_sk = sk_model.predict(pd.DataFrame(x_eval)).T\n",
    "    prediction_sk = prediction_sk.reshape((-1,))\n",
    "    prediction_mean = 0.5*(prediction_my + prediction_sk)\n",
    "    return prediction_my, prediction_sk, prediction_mean"
   ]
  },
  {
   "cell_type": "markdown",
   "metadata": {},
   "source": [
    "# Using test data with *all_models*"
   ]
  },
  {
   "cell_type": "markdown",
   "metadata": {},
   "source": [
    "## OverallQual"
   ]
  },
  {
   "cell_type": "code",
   "execution_count": null,
   "metadata": {},
   "outputs": [],
   "source": [
    "x = test_df['OverallQual'] \n",
    "p_my_ov, p_sk_ov, p_mn_ov = all_models(x,[OverallQual_m,OverallQual_b],regresion_over)\n",
    "print('Manual:',p_my_ov[1:5])\n",
    "print('Scikit:',p_sk_ov[1:5])\n",
    "print('_Mean_:',p_mn_ov[1:5])"
   ]
  },
  {
   "cell_type": "markdown",
   "metadata": {},
   "source": [
    "## 1stFlrSF"
   ]
  },
  {
   "cell_type": "code",
   "execution_count": null,
   "metadata": {},
   "outputs": [],
   "source": [
    "x = test_df['1stFlrSF'] \n",
    "p_my_1st, p_sk_1st, p_mn_1st = all_models(x,[IstFlrSF_m,IstFlrSF_b],regresion_flrs)\n",
    "print('Manual:',p_my_1st[1:5])\n",
    "print('Scikit:',p_sk_1st[1:5])\n",
    "print('_Mean_:',p_mn_1st[1:5])"
   ]
  },
  {
   "cell_type": "markdown",
   "metadata": {},
   "source": [
    "# Error graph *all_models*"
   ]
  },
  {
   "cell_type": "code",
   "execution_count": null,
   "metadata": {},
   "outputs": [],
   "source": [
    "def error_estimation(y,yhat):\n",
    "    return 0.5*np.mean(np.power((y-yhat),2))\n",
    "\n",
    "#Valor real y\n",
    "y = test_df['SalePrice']\n",
    "y_vec = np.array(y)\n",
    "\n",
    "#Errores OverallQual\n",
    "e_my_ov = error_estimation(y,p_my_ov) #Error de predicción manual\n",
    "e_sk_ov = error_estimation(y,p_sk_ov) #Error de predicción sklearn\n",
    "e_mn_ov = error_estimation(y,p_mn_ov) #Error de predicción promedio\n",
    "#Errores 1stFlrSF\n",
    "e_my_1st = error_estimation(y,p_my_1st)\n",
    "e_sk_1st = error_estimation(y,p_sk_1st)\n",
    "e_mn_1st = error_estimation(y,p_mn_1st)"
   ]
  },
  {
   "cell_type": "code",
   "execution_count": null,
   "metadata": {},
   "outputs": [],
   "source": [
    "#Ejemplo base para esta gráfica: https://python-graph-gallery.com/11-grouped-barplot/\n",
    "\n",
    "# Configurar el ancho de las barras\n",
    "barWidth = 0.2\n",
    " \n",
    "# Configurar barras\n",
    "bars1 = [e_my_ov, e_my_1st]\n",
    "bars2 = [e_sk_ov, e_sk_1st]\n",
    "bars3 = [e_mn_ov, e_mn_1st]\n",
    " \n",
    "# Configurar la posición de las barras en el eje X\n",
    "r1 = np.arange(len(bars1))\n",
    "r2 = [x + barWidth for x in r1]\n",
    "r3 = [x + barWidth for x in r2]\n",
    " \n",
    "# Graficar barras\n",
    "plt.bar(r1, bars1, color='darkorange', width=barWidth, edgecolor='white', label='Manual')\n",
    "plt.bar(r2, bars2, color='limegreen', width=barWidth, edgecolor='white', label='Sklearn')\n",
    "plt.bar(r3, bars3, color='darkorchid', width=barWidth, edgecolor='white', label='Mean')\n",
    " \n",
    "plt.xlabel('Errors', fontweight='bold')\n",
    "\n",
    "# Agregar en el eje X nombre de las variables\n",
    "plt.xticks([r + barWidth for r in range(len(bars1))], ['OverallQual', '1stFlrSF'])\n",
    " \n",
    "plt.legend()\n",
    "plt.show()"
   ]
  },
  {
   "cell_type": "markdown",
   "metadata": {},
   "source": [
    "### Errores de OverallQual con los diferentes modelos"
   ]
  },
  {
   "cell_type": "code",
   "execution_count": null,
   "metadata": {},
   "outputs": [],
   "source": [
    "print('Error manual_ = {:.4e}'.format(e_my_ov))\n",
    "print('Error sklearn = {:.4e}'.format(e_sk_ov))\n",
    "print('Error mean___ = {:.4e}'.format(e_mn_ov))"
   ]
  },
  {
   "cell_type": "markdown",
   "metadata": {},
   "source": [
    "# Conclusión\n",
    "\n",
    "El mejor modelo es el **OverallQual** con ***Sklearn***. El proceso de selección fué el siguiente:\n",
    "\n",
    "- Error OverallQual < 1stFlrSF, para cualquier caso\n",
    "    - Escogemos OverallQual, en la gráfica no se puede notar una diferencia significativa, así que imprimimos los errores en formato científico para cada modelo\n",
    "        - Estogemos sklearn por presentar la cifra más pequeña de los tres modelos"
   ]
  }
 ],
 "metadata": {
  "kernelspec": {
   "display_name": "Python 3",
   "language": "python",
   "name": "python3"
  },
  "language_info": {
   "codemirror_mode": {
    "name": "ipython",
    "version": 3
   },
   "file_extension": ".py",
   "mimetype": "text/x-python",
   "name": "python",
   "nbconvert_exporter": "python",
   "pygments_lexer": "ipython3",
   "version": "3.7.4"
  }
 },
 "nbformat": 4,
 "nbformat_minor": 2
}
